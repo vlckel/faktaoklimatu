{
 "cells": [
  {
   "cell_type": "markdown",
   "metadata": {},
   "source": [
    "# Extract attribute table from all feature classes in given gdb"
   ]
  },
  {
   "cell_type": "code",
   "execution_count": 10,
   "metadata": {},
   "outputs": [
    {
     "name": "stdout",
     "output_type": "stream",
     "text": [
      "CLC_CR_1990_LEVEL2_MultiPart\n",
      "CLC_CR_2000_LEVEL2_MultiPart\n",
      "CLC_CR_2006_LEVEL2_MultiPart\n",
      "CLC_CR_2012_LEVEL2_MultiPart\n",
      "CLC_CR_2018_LEVEL2_MultiPart\n"
     ]
    }
   ],
   "source": [
    "import os\n",
    "import arcpy\n",
    "\n",
    "# Set the workspace for ListFeatureClasses\n",
    "gdb = \"CLC_CR_LEVEL2.gdb\"\n",
    "arcpy.env.workspace = \"C:/Users/elisk/Desktop/FAKTAOKLIMATU/CORINE_LandCover/01_DataPerep\"+\"/\"+gdb\n",
    "\n",
    "# Use the ListFeatureClasses function to return a list of\n",
    "#  shapefiles.\n",
    "featureclasses = arcpy.ListFeatureClasses()\n",
    "\n",
    "# Copy shapefiles to a file geodatabase\n",
    "for fc in featureclasses:\n",
    "    print(fc)\n",
    "    # Process: Table to Table\n",
    "    \n",
    "    \n",
    "    outLocation = \"C:/Users/elisk/Desktop/FAKTAOKLIMATU/CORINE_LandCover/02_OutputData/FromScript\"\n",
    "    \n",
    "    # Execute TableToTable\n",
    "    arcpy.TableToTable_conversion(fc, outLocation, fc)\n"
   ]
  },
  {
   "cell_type": "markdown",
   "metadata": {},
   "source": [
    "# New field with YEAR"
   ]
  },
  {
   "cell_type": "code",
   "execution_count": 16,
   "metadata": {
    "scrolled": true
   },
   "outputs": [
    {
     "name": "stdout",
     "output_type": "stream",
     "text": [
      "processing CLC_CR_1990_LEVEL2_MultiPart_ORP\n",
      "processing CLC_CR_2000_LEVEL2_MultiPart_ORP\n",
      "processing CLC_CR_2006_LEVEL2_MultiPart_ORP\n",
      "processing CLC_CR_2012_LEVEL2_MultiPart_ORP\n",
      "processing CLC_CR_2018_LEVEL2_MultiPart_ORP\n"
     ]
    }
   ],
   "source": [
    "# Import standard library modules\n",
    "import arcpy, os, sys\n",
    "from arcpy import env\n",
    "import re\n",
    "\n",
    "# Allow for file overwrite\n",
    "arcpy.env.overwriteOutput = True\n",
    "\n",
    "# Set the workspace for ListFeatureClasses\n",
    "gdb = \"CLC_CR_ORP.gdb\"\n",
    "arcpy.env.workspace = \"C:/Users/elisk/Desktop/FAKTAOKLIMATU/CORINE_LandCover/01_DataPerep\"+\"/\"+gdb\n",
    "\n",
    "\n",
    "# Get the list of the featureclasses to process\n",
    "fc_tables = arcpy.ListFeatureClasses()\n",
    "\n",
    "# Loop through each file and perform the processing\n",
    "for fc in fc_tables:\n",
    "    print(str(\"processing \" + fc))\n",
    "\n",
    "    # Define field name and expression\n",
    "    field = \"YEAR\"\n",
    "    expression = str(fc) #populates field   \n",
    "    match = re.search(r\"(\\d{4})\", expression).group(1) #extract year\n",
    "\n",
    "    # Create a new field with a new name\n",
    "    arcpy.AddField_management(fc,field,\"TEXT\")\n",
    "\n",
    "    # Calculate field here\n",
    "    arcpy.CalculateField_management(fc, field, '\"'+match+'\"', \"PYTHON\")"
   ]
  },
  {
   "cell_type": "markdown",
   "metadata": {},
   "source": [
    "# Merge layers into one"
   ]
  },
  {
   "cell_type": "code",
   "execution_count": 21,
   "metadata": {},
   "outputs": [
    {
     "name": "stdout",
     "output_type": "stream",
     "text": [
      "['CLC_CR_1990_LEVEL2_MultiPart', 'CLC_CR_2000_LEVEL2_MultiPart', 'CLC_CR_2006_LEVEL2_MultiPart', 'CLC_CR_2012_LEVEL2_MultiPart', 'CLC_CR_2018_LEVEL2_MultiPart']\n"
     ]
    },
    {
     "data": {
      "text/html": [
       "<h2>Output</h2>C:\\Users\\elisk\\Desktop\\FAKTAOKLIMATU\\CORINE_LandCover\\01_DataPerep\\CLC_Merged_Years.gdb\\CLC_CR<h2>Messages</h2>Start Time: 03 March 2021 23:51:13<br/>Succeeded at 03 March 2021 23:51:17 (Elapsed Time: 4.52 seconds)<br/><style>.rendered_html td, .rendered_html th {text-align: left;}.rendered_html tbody {border: 1px solid black;}</style>"
      ],
      "text/plain": [
       "<Result 'C:\\\\Users\\\\elisk\\\\Desktop\\\\FAKTAOKLIMATU\\\\CORINE_LandCover\\\\01_DataPerep\\\\CLC_Merged_Years.gdb\\\\CLC_CR'>"
      ]
     },
     "execution_count": 21,
     "metadata": {},
     "output_type": "execute_result"
    }
   ],
   "source": [
    "# Import standard library modules\n",
    "import arcpy, os, sys\n",
    "from arcpy import env\n",
    "\n",
    "\n",
    "# Allow for file overwrite\n",
    "arcpy.env.overwriteOutput = True\n",
    "\n",
    "# Set the workspace for ListFeatureClasses\n",
    "gdb = \"CLC_CR_LEVEL2.gdb\"\n",
    "outputGdb = \"C:/Users/elisk/Desktop/FAKTAOKLIMATU/CORINE_LandCover/01_DataPerep/CLC_Merged_Years.gdb\"\n",
    "arcpy.env.workspace = \"C:/Users/elisk/Desktop/FAKTAOKLIMATU/CORINE_LandCover/01_DataPerep\"+\"/\"+gdb\n",
    "\n",
    "\n",
    "# Get the list of the featureclasses to process\n",
    "fc_tables = arcpy.ListFeatureClasses()\n",
    "\n",
    "# Loop through geodatabase to get a list of all feataures insite\n",
    "fcList = []\n",
    "for fc in fc_tables:\n",
    "    fcList.append(os.path.join(fc)) # add path to list\n",
    "print(fcList)\n",
    "\n",
    "# merge ten new field YEAR predtim sel vynechat, je tad ADD_SOURCE_INFO parametr\n",
    "arcpy.Merge_management(fcList, outputGdb+\"/\"+\"CLC_CR\", \"\", \"\")\n",
    "    "
   ]
  }
 ],
 "metadata": {
  "kernelspec": {
   "display_name": "ArcGISPro",
   "language": "Python",
   "name": "python3"
  },
  "language_info": {
   "file_extension": ".py",
   "name": "python",
   "version": "3"
  }
 },
 "nbformat": 4,
 "nbformat_minor": 2
}
